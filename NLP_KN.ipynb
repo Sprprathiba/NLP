{
  "nbformat": 4,
  "nbformat_minor": 0,
  "metadata": {
    "colab": {
      "provenance": [],
      "authorship_tag": "ABX9TyM2dZqrr1ZnqS6VK0zusJM7",
      "include_colab_link": true
    },
    "kernelspec": {
      "name": "python3",
      "display_name": "Python 3"
    },
    "language_info": {
      "name": "python"
    }
  },
  "cells": [
    {
      "cell_type": "markdown",
      "metadata": {
        "id": "view-in-github",
        "colab_type": "text"
      },
      "source": [
        "<a href=\"https://colab.research.google.com/github/Sprprathiba/NLP/blob/main/NLP_KN.ipynb\" target=\"_parent\"><img src=\"https://colab.research.google.com/assets/colab-badge.svg\" alt=\"Open In Colab\"/></a>"
      ]
    },
    {
      "cell_type": "markdown",
      "source": [
        "**TEXT PREPROCESSING**"
      ],
      "metadata": {
        "id": "gvc4BLxrWhre"
      }
    },
    {
      "cell_type": "code",
      "execution_count": 1,
      "metadata": {
        "colab": {
          "base_uri": "https://localhost:8080/"
        },
        "id": "QCj_Hkc8VgJI",
        "outputId": "f4081523-8dcd-41dd-b875-3914c806cc9f"
      },
      "outputs": [
        {
          "output_type": "stream",
          "name": "stdout",
          "text": [
            "Requirement already satisfied: nltk in /usr/local/lib/python3.10/dist-packages (3.8.1)\n",
            "Requirement already satisfied: click in /usr/local/lib/python3.10/dist-packages (from nltk) (8.1.7)\n",
            "Requirement already satisfied: joblib in /usr/local/lib/python3.10/dist-packages (from nltk) (1.4.2)\n",
            "Requirement already satisfied: regex>=2021.8.3 in /usr/local/lib/python3.10/dist-packages (from nltk) (2023.12.25)\n",
            "Requirement already satisfied: tqdm in /usr/local/lib/python3.10/dist-packages (from nltk) (4.66.4)\n"
          ]
        }
      ],
      "source": [
        "!pip install nltk"
      ]
    },
    {
      "cell_type": "code",
      "source": [
        "paragraph = \"\"\"\n",
        "Python was invented in the late 1980s[41] by Guido van Rossum at Centrum Wiskunde & Informatica (CWI) in the Netherlands as a successor to the ABC programming language, which was inspired by SETL,[42] capable of exception handling and interfacing with the Amoeba operating system.[11] Its implementation began in December 1989.[43] Van Rossum shouldered sole responsibility for the project, as the lead developer, until 12 July 2018, when he announced his \"permanent vacation\" from his responsibilities as Python's \"benevolent dictator for life\" (BDFL), a title the Python community bestowed upon him to reflect his long-term commitment as the project's chief decision-maker[44] (he's since come out of retirement and is self-titled \"BDFL-emeritus\"). In January 2019, active Python core developers elected a five-member Steering Council to lead the project.[45][46]\n",
        "\n",
        "Python 2.0 was released on 16 October 2000, with many major new features such as list comprehensions, cycle-detecting garbage collection, reference counting, and Unicode support.[47] Python 3.0, released on 3 December 2008, with many of its major features backported to Python 2.6.x[48] and 2.7.x. Releases of Python 3 include the 2to3 utility, which automates the translation of Python 2 code to Python 3.[49]\n",
        "\"\"\""
      ],
      "metadata": {
        "id": "JAKSu7trVkVI"
      },
      "execution_count": 2,
      "outputs": []
    },
    {
      "cell_type": "markdown",
      "source": [
        "** 1. CONVERTING INTO SENTENCES**"
      ],
      "metadata": {
        "id": "yU8CjDGpYAW2"
      }
    },
    {
      "cell_type": "code",
      "source": [
        "paragraph"
      ],
      "metadata": {
        "colab": {
          "base_uri": "https://localhost:8080/",
          "height": 123
        },
        "id": "6NUmXVyiVwl5",
        "outputId": "3f6c5244-2437-4aca-caf3-8400a6576e24"
      },
      "execution_count": null,
      "outputs": [
        {
          "output_type": "execute_result",
          "data": {
            "text/plain": [
              "'\\nPython was invented in the late 1980s[41] by Guido van Rossum at Centrum Wiskunde & Informatica (CWI) in the Netherlands as a successor to the ABC programming language, which was inspired by SETL,[42] capable of exception handling and interfacing with the Amoeba operating system.[11] Its implementation began in December 1989.[43] Van Rossum shouldered sole responsibility for the project, as the lead developer, until 12 July 2018, when he announced his \"permanent vacation\" from his responsibilities as Python\\'s \"benevolent dictator for life\" (BDFL), a title the Python community bestowed upon him to reflect his long-term commitment as the project\\'s chief decision-maker[44] (he\\'s since come out of retirement and is self-titled \"BDFL-emeritus\"). In January 2019, active Python core developers elected a five-member Steering Council to lead the project.[45][46]\\n\\nPython 2.0 was released on 16 October 2000, with many major new features such as list comprehensions, cycle-detecting garbage collection, reference counting, and Unicode support.[47] Python 3.0, released on 3 December 2008, with many of its major features backported to Python 2.6.x[48] and 2.7.x. Releases of Python 3 include the 2to3 utility, which automates the translation of Python 2 code to Python 3.[49]\\n'"
            ],
            "application/vnd.google.colaboratory.intrinsic+json": {
              "type": "string"
            }
          },
          "metadata": {},
          "execution_count": 3
        }
      ]
    },
    {
      "cell_type": "markdown",
      "source": [
        "**2. CLEANING THE WORDS**"
      ],
      "metadata": {
        "id": "NZUI3H5wYHAq"
      }
    },
    {
      "cell_type": "markdown",
      "source": [
        "*Tokenization ---- converting paragraph into sentences*"
      ],
      "metadata": {
        "id": "_a3Sw-J4Zfmq"
      }
    },
    {
      "cell_type": "code",
      "source": [
        "import nltk\n",
        "from nltk.stem import PorterStemmer\n",
        "from nltk.corpus import stopwords"
      ],
      "metadata": {
        "id": "RROfMFKFZksP"
      },
      "execution_count": 3,
      "outputs": []
    },
    {
      "cell_type": "markdown",
      "source": [
        "*To use sent_tokenize we need to download one package called punkt*"
      ],
      "metadata": {
        "id": "E36xavG1aK0G"
      }
    },
    {
      "cell_type": "code",
      "source": [
        "nltk.download('punkt')\n",
        "sentences = nltk.sent_tokenize(paragraph)"
      ],
      "metadata": {
        "colab": {
          "base_uri": "https://localhost:8080/"
        },
        "id": "kRPaA7QaZ8rG",
        "outputId": "4ab0a672-0fa7-4bc8-a9cf-df670627af19"
      },
      "execution_count": 4,
      "outputs": [
        {
          "output_type": "stream",
          "name": "stderr",
          "text": [
            "[nltk_data] Downloading package punkt to /root/nltk_data...\n",
            "[nltk_data]   Unzipping tokenizers/punkt.zip.\n"
          ]
        }
      ]
    },
    {
      "cell_type": "code",
      "source": [
        "type(sentences)"
      ],
      "metadata": {
        "colab": {
          "base_uri": "https://localhost:8080/"
        },
        "id": "wuML84Rsad_J",
        "outputId": "0901637d-aea5-471d-8563-c6f143bf8612"
      },
      "execution_count": null,
      "outputs": [
        {
          "output_type": "execute_result",
          "data": {
            "text/plain": [
              "list"
            ]
          },
          "metadata": {},
          "execution_count": 12
        }
      ]
    },
    {
      "cell_type": "markdown",
      "source": [
        "***3. STEMMING AND LEMMATIZATION***"
      ],
      "metadata": {
        "id": "NzJ9PPsLavhK"
      }
    },
    {
      "cell_type": "code",
      "source": [
        "stemmer = PorterStemmer()\n",
        "stemmer.stem('history')"
      ],
      "metadata": {
        "colab": {
          "base_uri": "https://localhost:8080/",
          "height": 36
        },
        "id": "soU9a7XJatGM",
        "outputId": "c54d86ae-dff4-469d-bf01-cd7f8e60ced8"
      },
      "execution_count": 5,
      "outputs": [
        {
          "output_type": "execute_result",
          "data": {
            "text/plain": [
              "'histori'"
            ],
            "application/vnd.google.colaboratory.intrinsic+json": {
              "type": "string"
            }
          },
          "metadata": {},
          "execution_count": 5
        }
      ]
    },
    {
      "cell_type": "markdown",
      "source": [
        "*To use Lemmatizer we need to download package called wordnet*"
      ],
      "metadata": {
        "id": "xJa21fJwbtpY"
      }
    },
    {
      "cell_type": "code",
      "source": [
        "from nltk.stem import WordNetLemmatizer\n",
        "\n",
        "lemmatizer = WordNetLemmatizer()\n",
        "nltk.download('wordnet')\n",
        "lemmatizer.lemmatize('history')"
      ],
      "metadata": {
        "colab": {
          "base_uri": "https://localhost:8080/",
          "height": 53
        },
        "id": "oe51QeUSbA-v",
        "outputId": "ed6f93a5-28d5-4e60-b828-828b5e7edb4b"
      },
      "execution_count": 6,
      "outputs": [
        {
          "output_type": "stream",
          "name": "stderr",
          "text": [
            "[nltk_data] Downloading package wordnet to /root/nltk_data...\n"
          ]
        },
        {
          "output_type": "execute_result",
          "data": {
            "text/plain": [
              "'history'"
            ],
            "application/vnd.google.colaboratory.intrinsic+json": {
              "type": "string"
            }
          },
          "metadata": {},
          "execution_count": 6
        }
      ]
    },
    {
      "cell_type": "markdown",
      "source": [
        "*REMOVING UNWANTED SYMBOLS like special characters*"
      ],
      "metadata": {
        "id": "q2475L9zY3ia"
      }
    },
    {
      "cell_type": "code",
      "source": [
        "import re"
      ],
      "metadata": {
        "id": "ydcVoz72YLI6"
      },
      "execution_count": 7,
      "outputs": []
    },
    {
      "cell_type": "code",
      "source": [
        "corpus=[]\n",
        "for i in range(len(sentences)):\n",
        "  clean_words = re.sub('[^a-zA-Z]', ' ', sentences[i])\n",
        "  clean_words = clean_words.lower()\n",
        "  corpus.append(clean_words)\n",
        "\n"
      ],
      "metadata": {
        "id": "V_SW9rzEY-kT"
      },
      "execution_count": 8,
      "outputs": []
    },
    {
      "cell_type": "code",
      "source": [
        "corpus"
      ],
      "metadata": {
        "colab": {
          "base_uri": "https://localhost:8080/"
        },
        "id": "vlg9UjcHdK1a",
        "outputId": "a14bfc8b-5237-434c-9a60-0720760ee5b9"
      },
      "execution_count": null,
      "outputs": [
        {
          "output_type": "execute_result",
          "data": {
            "text/plain": [
              "[' python was invented in the late     s     by guido van rossum at centrum wiskunde   informatica  cwi  in the netherlands as a successor to the abc programming language  which was inspired by setl      capable of exception handling and interfacing with the amoeba operating system ',\n",
              " '     its implementation began in december      ',\n",
              " '     van rossum shouldered sole responsibility for the project  as the lead developer  until    july       when he announced his  permanent vacation  from his responsibilities as python s  benevolent dictator for life   bdfl   a title the python community bestowed upon him to reflect his long term commitment as the project s chief decision maker      he s since come out of retirement and is self titled  bdfl emeritus   ',\n",
              " 'in january       active python core developers elected a five member steering council to lead the project ',\n",
              " '          python     was released on    october       with many major new features such as list comprehensions  cycle detecting garbage collection  reference counting  and unicode support ',\n",
              " '     python      released on   december       with many of its major features backported to python     x     and     x ',\n",
              " 'releases of python   include the  to  utility  which automates the translation of python   code to python   ',\n",
              " '    ']"
            ]
          },
          "metadata": {},
          "execution_count": 22
        }
      ]
    },
    {
      "cell_type": "code",
      "source": [
        "# How to proceed with stopwords\n",
        "# To use stopwords need to download package called stopwords\n",
        "nltk.download('stopwords')\n",
        "\n",
        "stopwords.words('english')\n",
        "\n"
      ],
      "metadata": {
        "colab": {
          "base_uri": "https://localhost:8080/"
        },
        "id": "3dfEpkJWfI8O",
        "outputId": "7c92de0e-d181-4687-d627-04c02ce9db7d"
      },
      "execution_count": 9,
      "outputs": [
        {
          "output_type": "stream",
          "name": "stderr",
          "text": [
            "[nltk_data] Downloading package stopwords to /root/nltk_data...\n",
            "[nltk_data]   Unzipping corpora/stopwords.zip.\n"
          ]
        },
        {
          "output_type": "execute_result",
          "data": {
            "text/plain": [
              "['i',\n",
              " 'me',\n",
              " 'my',\n",
              " 'myself',\n",
              " 'we',\n",
              " 'our',\n",
              " 'ours',\n",
              " 'ourselves',\n",
              " 'you',\n",
              " \"you're\",\n",
              " \"you've\",\n",
              " \"you'll\",\n",
              " \"you'd\",\n",
              " 'your',\n",
              " 'yours',\n",
              " 'yourself',\n",
              " 'yourselves',\n",
              " 'he',\n",
              " 'him',\n",
              " 'his',\n",
              " 'himself',\n",
              " 'she',\n",
              " \"she's\",\n",
              " 'her',\n",
              " 'hers',\n",
              " 'herself',\n",
              " 'it',\n",
              " \"it's\",\n",
              " 'its',\n",
              " 'itself',\n",
              " 'they',\n",
              " 'them',\n",
              " 'their',\n",
              " 'theirs',\n",
              " 'themselves',\n",
              " 'what',\n",
              " 'which',\n",
              " 'who',\n",
              " 'whom',\n",
              " 'this',\n",
              " 'that',\n",
              " \"that'll\",\n",
              " 'these',\n",
              " 'those',\n",
              " 'am',\n",
              " 'is',\n",
              " 'are',\n",
              " 'was',\n",
              " 'were',\n",
              " 'be',\n",
              " 'been',\n",
              " 'being',\n",
              " 'have',\n",
              " 'has',\n",
              " 'had',\n",
              " 'having',\n",
              " 'do',\n",
              " 'does',\n",
              " 'did',\n",
              " 'doing',\n",
              " 'a',\n",
              " 'an',\n",
              " 'the',\n",
              " 'and',\n",
              " 'but',\n",
              " 'if',\n",
              " 'or',\n",
              " 'because',\n",
              " 'as',\n",
              " 'until',\n",
              " 'while',\n",
              " 'of',\n",
              " 'at',\n",
              " 'by',\n",
              " 'for',\n",
              " 'with',\n",
              " 'about',\n",
              " 'against',\n",
              " 'between',\n",
              " 'into',\n",
              " 'through',\n",
              " 'during',\n",
              " 'before',\n",
              " 'after',\n",
              " 'above',\n",
              " 'below',\n",
              " 'to',\n",
              " 'from',\n",
              " 'up',\n",
              " 'down',\n",
              " 'in',\n",
              " 'out',\n",
              " 'on',\n",
              " 'off',\n",
              " 'over',\n",
              " 'under',\n",
              " 'again',\n",
              " 'further',\n",
              " 'then',\n",
              " 'once',\n",
              " 'here',\n",
              " 'there',\n",
              " 'when',\n",
              " 'where',\n",
              " 'why',\n",
              " 'how',\n",
              " 'all',\n",
              " 'any',\n",
              " 'both',\n",
              " 'each',\n",
              " 'few',\n",
              " 'more',\n",
              " 'most',\n",
              " 'other',\n",
              " 'some',\n",
              " 'such',\n",
              " 'no',\n",
              " 'nor',\n",
              " 'not',\n",
              " 'only',\n",
              " 'own',\n",
              " 'same',\n",
              " 'so',\n",
              " 'than',\n",
              " 'too',\n",
              " 'very',\n",
              " 's',\n",
              " 't',\n",
              " 'can',\n",
              " 'will',\n",
              " 'just',\n",
              " 'don',\n",
              " \"don't\",\n",
              " 'should',\n",
              " \"should've\",\n",
              " 'now',\n",
              " 'd',\n",
              " 'll',\n",
              " 'm',\n",
              " 'o',\n",
              " 're',\n",
              " 've',\n",
              " 'y',\n",
              " 'ain',\n",
              " 'aren',\n",
              " \"aren't\",\n",
              " 'couldn',\n",
              " \"couldn't\",\n",
              " 'didn',\n",
              " \"didn't\",\n",
              " 'doesn',\n",
              " \"doesn't\",\n",
              " 'hadn',\n",
              " \"hadn't\",\n",
              " 'hasn',\n",
              " \"hasn't\",\n",
              " 'haven',\n",
              " \"haven't\",\n",
              " 'isn',\n",
              " \"isn't\",\n",
              " 'ma',\n",
              " 'mightn',\n",
              " \"mightn't\",\n",
              " 'mustn',\n",
              " \"mustn't\",\n",
              " 'needn',\n",
              " \"needn't\",\n",
              " 'shan',\n",
              " \"shan't\",\n",
              " 'shouldn',\n",
              " \"shouldn't\",\n",
              " 'wasn',\n",
              " \"wasn't\",\n",
              " 'weren',\n",
              " \"weren't\",\n",
              " 'won',\n",
              " \"won't\",\n",
              " 'wouldn',\n",
              " \"wouldn't\"]"
            ]
          },
          "metadata": {},
          "execution_count": 9
        }
      ]
    },
    {
      "cell_type": "code",
      "source": [
        "##Stemming\n",
        "\n",
        "for i in corpus:\n",
        "  # print(i) #sentence\n",
        "  words=nltk.word_tokenize(i) #This will convert sentence into the words\n",
        "  for word in words:\n",
        "    if word not in set(stopwords.words('english')):\n",
        "      print(stemmer.stem(word))"
      ],
      "metadata": {
        "colab": {
          "base_uri": "https://localhost:8080/"
        },
        "id": "fMCvN1dFdmCN",
        "outputId": "f3338580-66df-482a-9106-97cc5aac8fb3"
      },
      "execution_count": null,
      "outputs": [
        {
          "output_type": "stream",
          "name": "stdout",
          "text": [
            "python\n",
            "invent\n",
            "late\n",
            "guido\n",
            "van\n",
            "rossum\n",
            "centrum\n",
            "wiskund\n",
            "informatica\n",
            "cwi\n",
            "netherland\n",
            "successor\n",
            "abc\n",
            "program\n",
            "languag\n",
            "inspir\n",
            "setl\n",
            "capabl\n",
            "except\n",
            "handl\n",
            "interfac\n",
            "amoeba\n",
            "oper\n",
            "system\n",
            "implement\n",
            "began\n",
            "decemb\n",
            "van\n",
            "rossum\n",
            "shoulder\n",
            "sole\n",
            "respons\n",
            "project\n",
            "lead\n",
            "develop\n",
            "juli\n",
            "announc\n",
            "perman\n",
            "vacat\n",
            "respons\n",
            "python\n",
            "benevol\n",
            "dictat\n",
            "life\n",
            "bdfl\n",
            "titl\n",
            "python\n",
            "commun\n",
            "bestow\n",
            "upon\n",
            "reflect\n",
            "long\n",
            "term\n",
            "commit\n",
            "project\n",
            "chief\n",
            "decis\n",
            "maker\n",
            "sinc\n",
            "come\n",
            "retir\n",
            "self\n",
            "titl\n",
            "bdfl\n",
            "emeritu\n",
            "januari\n",
            "activ\n",
            "python\n",
            "core\n",
            "develop\n",
            "elect\n",
            "five\n",
            "member\n",
            "steer\n",
            "council\n",
            "lead\n",
            "project\n",
            "python\n",
            "releas\n",
            "octob\n",
            "mani\n",
            "major\n",
            "new\n",
            "featur\n",
            "list\n",
            "comprehens\n",
            "cycl\n",
            "detect\n",
            "garbag\n",
            "collect\n",
            "refer\n",
            "count\n",
            "unicod\n",
            "support\n",
            "python\n",
            "releas\n",
            "decemb\n",
            "mani\n",
            "major\n",
            "featur\n",
            "backport\n",
            "python\n",
            "x\n",
            "x\n",
            "releas\n",
            "python\n",
            "includ\n",
            "util\n",
            "autom\n",
            "translat\n",
            "python\n",
            "code\n",
            "python\n"
          ]
        }
      ]
    },
    {
      "cell_type": "code",
      "source": [
        "##Lemmatization\n",
        "\n",
        "for i in corpus:\n",
        "  # print(i) #sentence\n",
        "  words=nltk.word_tokenize(i) #This will convert sentence into the words\n",
        "  for word in words:\n",
        "    if word not in set(stopwords.words('english')):\n",
        "      print(lemmatizer.lemmatize(word))"
      ],
      "metadata": {
        "colab": {
          "base_uri": "https://localhost:8080/"
        },
        "id": "Ev8zIIc2fuHI",
        "outputId": "56b022ac-7616-4097-c456-ac11a317a7c7"
      },
      "execution_count": null,
      "outputs": [
        {
          "output_type": "stream",
          "name": "stdout",
          "text": [
            "python\n",
            "invented\n",
            "late\n",
            "guido\n",
            "van\n",
            "rossum\n",
            "centrum\n",
            "wiskunde\n",
            "informatica\n",
            "cwi\n",
            "netherlands\n",
            "successor\n",
            "abc\n",
            "programming\n",
            "language\n",
            "inspired\n",
            "setl\n",
            "capable\n",
            "exception\n",
            "handling\n",
            "interfacing\n",
            "amoeba\n",
            "operating\n",
            "system\n",
            "implementation\n",
            "began\n",
            "december\n",
            "van\n",
            "rossum\n",
            "shouldered\n",
            "sole\n",
            "responsibility\n",
            "project\n",
            "lead\n",
            "developer\n",
            "july\n",
            "announced\n",
            "permanent\n",
            "vacation\n",
            "responsibility\n",
            "python\n",
            "benevolent\n",
            "dictator\n",
            "life\n",
            "bdfl\n",
            "title\n",
            "python\n",
            "community\n",
            "bestowed\n",
            "upon\n",
            "reflect\n",
            "long\n",
            "term\n",
            "commitment\n",
            "project\n",
            "chief\n",
            "decision\n",
            "maker\n",
            "since\n",
            "come\n",
            "retirement\n",
            "self\n",
            "titled\n",
            "bdfl\n",
            "emeritus\n",
            "january\n",
            "active\n",
            "python\n",
            "core\n",
            "developer\n",
            "elected\n",
            "five\n",
            "member\n",
            "steering\n",
            "council\n",
            "lead\n",
            "project\n",
            "python\n",
            "released\n",
            "october\n",
            "many\n",
            "major\n",
            "new\n",
            "feature\n",
            "list\n",
            "comprehension\n",
            "cycle\n",
            "detecting\n",
            "garbage\n",
            "collection\n",
            "reference\n",
            "counting\n",
            "unicode\n",
            "support\n",
            "python\n",
            "released\n",
            "december\n",
            "many\n",
            "major\n",
            "feature\n",
            "backported\n",
            "python\n",
            "x\n",
            "x\n",
            "release\n",
            "python\n",
            "include\n",
            "utility\n",
            "automates\n",
            "translation\n",
            "python\n",
            "code\n",
            "python\n"
          ]
        }
      ]
    },
    {
      "cell_type": "markdown",
      "source": [
        "**CONVERTING WORDS INTO VECTORS USING BAG OF WORDS**"
      ],
      "metadata": {
        "id": "o34M-BoygYhM"
      }
    },
    {
      "cell_type": "code",
      "source": [
        "corpus = []\n",
        "for i in range(len(sentences)):\n",
        "  clean_words = re.sub('[^a-zA-Z]', ' ', sentences[i])\n",
        "  clean_words = clean_words.lower().split()\n",
        "  clean_words = [lemmatizer.lemmatize(word) for word in clean_words if word not in set(stopwords.words('english'))]\n",
        "  # print(clean_words)\n",
        "  final_words = ' '.join(clean_words)\n",
        "  corpus.append(final_words)"
      ],
      "metadata": {
        "id": "hJwuwodxlt7H"
      },
      "execution_count": 10,
      "outputs": []
    },
    {
      "cell_type": "code",
      "source": [
        "from sklearn.feature_extraction.text import CountVectorizer\n",
        "#why binary=True then only we will not get binary as 2, 4 in array\n",
        " #ngrams_range (2,3) means both bi and tri grams, (3,3) only tri grams\n",
        "cv = CountVectorizer(binary=True, ngram_range = (2,3))"
      ],
      "metadata": {
        "id": "hHqSXIiighmo"
      },
      "execution_count": 11,
      "outputs": []
    },
    {
      "cell_type": "code",
      "source": [
        "x = cv.fit_transform(corpus)\n",
        "cv.vocabulary_"
      ],
      "metadata": {
        "colab": {
          "base_uri": "https://localhost:8080/"
        },
        "id": "VZIM36PhkQEd",
        "outputId": "49be636b-d732-4804-97fe-cd5e88f480c6"
      },
      "execution_count": 12,
      "outputs": [
        {
          "output_type": "execute_result",
          "data": {
            "text/plain": [
              "{'python invented': 139,\n",
              " 'invented late': 84,\n",
              " 'late guido': 92,\n",
              " 'guido van': 70,\n",
              " 'van rossum': 193,\n",
              " 'rossum centrum': 160,\n",
              " 'centrum wiskunde': 21,\n",
              " 'wiskunde informatica': 196,\n",
              " 'informatica cwi': 78,\n",
              " 'cwi netherlands': 42,\n",
              " 'netherlands successor': 114,\n",
              " 'successor abc': 176,\n",
              " 'abc programming': 0,\n",
              " 'programming language': 123,\n",
              " 'language inspired': 90,\n",
              " 'inspired setl': 80,\n",
              " 'setl capable': 166,\n",
              " 'capable exception': 19,\n",
              " 'exception handling': 60,\n",
              " 'handling interfacing': 72,\n",
              " 'interfacing amoeba': 82,\n",
              " 'amoeba operating': 4,\n",
              " 'operating system': 120,\n",
              " 'python invented late': 140,\n",
              " 'invented late guido': 85,\n",
              " 'late guido van': 93,\n",
              " 'guido van rossum': 71,\n",
              " 'van rossum centrum': 194,\n",
              " 'rossum centrum wiskunde': 161,\n",
              " 'centrum wiskunde informatica': 22,\n",
              " 'wiskunde informatica cwi': 197,\n",
              " 'informatica cwi netherlands': 79,\n",
              " 'cwi netherlands successor': 43,\n",
              " 'netherlands successor abc': 115,\n",
              " 'successor abc programming': 177,\n",
              " 'abc programming language': 1,\n",
              " 'programming language inspired': 124,\n",
              " 'language inspired setl': 91,\n",
              " 'inspired setl capable': 81,\n",
              " 'setl capable exception': 167,\n",
              " 'capable exception handling': 20,\n",
              " 'exception handling interfacing': 61,\n",
              " 'handling interfacing amoeba': 73,\n",
              " 'interfacing amoeba operating': 83,\n",
              " 'amoeba operating system': 5,\n",
              " 'implementation began': 74,\n",
              " 'began december': 14,\n",
              " 'implementation began december': 75,\n",
              " 'rossum shouldered': 162,\n",
              " 'shouldered sole': 168,\n",
              " 'sole responsibility': 172,\n",
              " 'responsibility project': 154,\n",
              " 'project lead': 127,\n",
              " 'lead developer': 94,\n",
              " 'developer july': 54,\n",
              " 'july announced': 88,\n",
              " 'announced permanent': 6,\n",
              " 'permanent vacation': 121,\n",
              " 'vacation responsibility': 191,\n",
              " 'responsibility python': 156,\n",
              " 'python benevolent': 129,\n",
              " 'benevolent dictator': 15,\n",
              " 'dictator life': 56,\n",
              " 'life bdfl': 97,\n",
              " 'bdfl title': 12,\n",
              " 'title python': 180,\n",
              " 'python community': 133,\n",
              " 'community bestowed': 32,\n",
              " 'bestowed upon': 17,\n",
              " 'upon reflect': 187,\n",
              " 'reflect long': 146,\n",
              " 'long term': 101,\n",
              " 'term commitment': 178,\n",
              " 'commitment project': 30,\n",
              " 'project chief': 125,\n",
              " 'chief decision': 23,\n",
              " 'decision maker': 48,\n",
              " 'maker since': 107,\n",
              " 'since come': 170,\n",
              " 'come retirement': 28,\n",
              " 'retirement self': 158,\n",
              " 'self titled': 164,\n",
              " 'titled bdfl': 182,\n",
              " 'bdfl emeritus': 11,\n",
              " 'van rossum shouldered': 195,\n",
              " 'rossum shouldered sole': 163,\n",
              " 'shouldered sole responsibility': 169,\n",
              " 'sole responsibility project': 173,\n",
              " 'responsibility project lead': 155,\n",
              " 'project lead developer': 128,\n",
              " 'lead developer july': 95,\n",
              " 'developer july announced': 55,\n",
              " 'july announced permanent': 89,\n",
              " 'announced permanent vacation': 7,\n",
              " 'permanent vacation responsibility': 122,\n",
              " 'vacation responsibility python': 192,\n",
              " 'responsibility python benevolent': 157,\n",
              " 'python benevolent dictator': 130,\n",
              " 'benevolent dictator life': 16,\n",
              " 'dictator life bdfl': 57,\n",
              " 'life bdfl title': 98,\n",
              " 'bdfl title python': 13,\n",
              " 'title python community': 181,\n",
              " 'python community bestowed': 134,\n",
              " 'community bestowed upon': 33,\n",
              " 'bestowed upon reflect': 18,\n",
              " 'upon reflect long': 188,\n",
              " 'reflect long term': 147,\n",
              " 'long term commitment': 102,\n",
              " 'term commitment project': 179,\n",
              " 'commitment project chief': 31,\n",
              " 'project chief decision': 126,\n",
              " 'chief decision maker': 24,\n",
              " 'decision maker since': 49,\n",
              " 'maker since come': 108,\n",
              " 'since come retirement': 171,\n",
              " 'come retirement self': 29,\n",
              " 'retirement self titled': 159,\n",
              " 'self titled bdfl': 165,\n",
              " 'titled bdfl emeritus': 183,\n",
              " 'january active': 86,\n",
              " 'active python': 2,\n",
              " 'python core': 135,\n",
              " 'core developer': 36,\n",
              " 'developer elected': 52,\n",
              " 'elected five': 58,\n",
              " 'five member': 66,\n",
              " 'member steering': 112,\n",
              " 'steering council': 174,\n",
              " 'council lead': 38,\n",
              " 'lead project': 96,\n",
              " 'january active python': 87,\n",
              " 'active python core': 3,\n",
              " 'python core developer': 136,\n",
              " 'core developer elected': 37,\n",
              " 'developer elected five': 53,\n",
              " 'elected five member': 59,\n",
              " 'five member steering': 67,\n",
              " 'member steering council': 113,\n",
              " 'steering council lead': 175,\n",
              " 'council lead project': 39,\n",
              " 'python released': 141,\n",
              " 'released october': 152,\n",
              " 'october many': 118,\n",
              " 'many major': 109,\n",
              " 'major new': 105,\n",
              " 'new feature': 116,\n",
              " 'feature list': 64,\n",
              " 'list comprehension': 99,\n",
              " 'comprehension cycle': 34,\n",
              " 'cycle detecting': 44,\n",
              " 'detecting garbage': 50,\n",
              " 'garbage collection': 68,\n",
              " 'collection reference': 26,\n",
              " 'reference counting': 144,\n",
              " 'counting unicode': 40,\n",
              " 'unicode support': 186,\n",
              " 'python released october': 143,\n",
              " 'released october many': 153,\n",
              " 'october many major': 119,\n",
              " 'many major new': 111,\n",
              " 'major new feature': 106,\n",
              " 'new feature list': 117,\n",
              " 'feature list comprehension': 65,\n",
              " 'list comprehension cycle': 100,\n",
              " 'comprehension cycle detecting': 35,\n",
              " 'cycle detecting garbage': 45,\n",
              " 'detecting garbage collection': 51,\n",
              " 'garbage collection reference': 69,\n",
              " 'collection reference counting': 27,\n",
              " 'reference counting unicode': 145,\n",
              " 'counting unicode support': 41,\n",
              " 'released december': 150,\n",
              " 'december many': 46,\n",
              " 'major feature': 103,\n",
              " 'feature backported': 62,\n",
              " 'backported python': 10,\n",
              " 'python released december': 142,\n",
              " 'released december many': 151,\n",
              " 'december many major': 47,\n",
              " 'many major feature': 110,\n",
              " 'major feature backported': 104,\n",
              " 'feature backported python': 63,\n",
              " 'release python': 148,\n",
              " 'python include': 137,\n",
              " 'include utility': 76,\n",
              " 'utility automates': 189,\n",
              " 'automates translation': 8,\n",
              " 'translation python': 184,\n",
              " 'python code': 131,\n",
              " 'code python': 25,\n",
              " 'release python include': 149,\n",
              " 'python include utility': 138,\n",
              " 'include utility automates': 77,\n",
              " 'utility automates translation': 190,\n",
              " 'automates translation python': 9,\n",
              " 'translation python code': 185,\n",
              " 'python code python': 132}"
            ]
          },
          "metadata": {},
          "execution_count": 12
        }
      ]
    },
    {
      "cell_type": "code",
      "source": [
        "corpus[0]"
      ],
      "metadata": {
        "colab": {
          "base_uri": "https://localhost:8080/",
          "height": 53
        },
        "id": "Kg0MAWOinI6w",
        "outputId": "ca39a50a-9f34-4987-e484-8b3c16d559dd"
      },
      "execution_count": null,
      "outputs": [
        {
          "output_type": "execute_result",
          "data": {
            "text/plain": [
              "'python invented late guido van rossum centrum wiskunde informatica cwi netherlands successor abc programming language inspired setl capable exception handling interfacing amoeba operating system'"
            ],
            "application/vnd.google.colaboratory.intrinsic+json": {
              "type": "string"
            }
          },
          "metadata": {},
          "execution_count": 50
        }
      ]
    },
    {
      "cell_type": "code",
      "source": [
        "x[0].toarray()"
      ],
      "metadata": {
        "colab": {
          "base_uri": "https://localhost:8080/"
        },
        "id": "8b_zbBNLkqJM",
        "outputId": "0c1c1fe9-053c-4702-b407-45f7c8846dd7"
      },
      "execution_count": 13,
      "outputs": [
        {
          "output_type": "execute_result",
          "data": {
            "text/plain": [
              "array([[1, 1, 0, 0, 1, 1, 0, 0, 0, 0, 0, 0, 0, 0, 0, 0, 0, 0, 0, 1, 1, 1,\n",
              "        1, 0, 0, 0, 0, 0, 0, 0, 0, 0, 0, 0, 0, 0, 0, 0, 0, 0, 0, 0, 1, 1,\n",
              "        0, 0, 0, 0, 0, 0, 0, 0, 0, 0, 0, 0, 0, 0, 0, 0, 1, 1, 0, 0, 0, 0,\n",
              "        0, 0, 0, 0, 1, 1, 1, 1, 0, 0, 0, 0, 1, 1, 1, 1, 1, 1, 1, 1, 0, 0,\n",
              "        0, 0, 1, 1, 1, 1, 0, 0, 0, 0, 0, 0, 0, 0, 0, 0, 0, 0, 0, 0, 0, 0,\n",
              "        0, 0, 0, 0, 1, 1, 0, 0, 0, 0, 1, 0, 0, 1, 1, 0, 0, 0, 0, 0, 0, 0,\n",
              "        0, 0, 0, 0, 0, 0, 0, 1, 1, 0, 0, 0, 0, 0, 0, 0, 0, 0, 0, 0, 0, 0,\n",
              "        0, 0, 0, 0, 0, 0, 1, 1, 0, 0, 0, 0, 1, 1, 0, 0, 0, 0, 0, 0, 0, 0,\n",
              "        1, 1, 0, 0, 0, 0, 0, 0, 0, 0, 0, 0, 0, 0, 0, 0, 0, 1, 1, 0, 1, 1]])"
            ]
          },
          "metadata": {},
          "execution_count": 13
        }
      ]
    },
    {
      "cell_type": "markdown",
      "source": [
        "**DAY 3 - TF-IDF**"
      ],
      "metadata": {
        "id": "X_ZRSFZ7F6Xq"
      }
    },
    {
      "cell_type": "code",
      "source": [
        "from sklearn.feature_extraction.text import TfidfVectorizer\n",
        "#max_features is for, top 3 max features(vectors) it will get\n",
        "tf_idf = TfidfVectorizer(ngram_range=(2,3), max_features=3)\n",
        "x = tf_idf.fit_transform(corpus)"
      ],
      "metadata": {
        "id": "SMytk5y7GBmu"
      },
      "execution_count": 20,
      "outputs": []
    },
    {
      "cell_type": "code",
      "source": [
        "corpus[0]"
      ],
      "metadata": {
        "id": "DAdHEIIIGadj",
        "outputId": "9fd78dbb-fe27-4c46-d483-80e6f4b2fc59",
        "colab": {
          "base_uri": "https://localhost:8080/",
          "height": 53
        }
      },
      "execution_count": 16,
      "outputs": [
        {
          "output_type": "execute_result",
          "data": {
            "text/plain": [
              "'python invented late guido van rossum centrum wiskunde informatica cwi netherlands successor abc programming language inspired setl capable exception handling interfacing amoeba operating system'"
            ],
            "application/vnd.google.colaboratory.intrinsic+json": {
              "type": "string"
            }
          },
          "metadata": {},
          "execution_count": 16
        }
      ]
    },
    {
      "cell_type": "code",
      "source": [
        "x[0].toarray()"
      ],
      "metadata": {
        "id": "j1-t0KXhGgnF",
        "outputId": "bb0efafd-bc71-408f-91a8-f2501625786e",
        "colab": {
          "base_uri": "https://localhost:8080/"
        }
      },
      "execution_count": 21,
      "outputs": [
        {
          "output_type": "execute_result",
          "data": {
            "text/plain": [
              "array([[0., 0., 1.]])"
            ]
          },
          "metadata": {},
          "execution_count": 21
        }
      ]
    }
  ]
}